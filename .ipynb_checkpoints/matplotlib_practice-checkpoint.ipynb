{
 "cells": [
  {
   "cell_type": "code",
   "execution_count": null,
   "metadata": {},
   "outputs": [],
   "source": [
    "%matplotlib inline"
   ]
  },
  {
   "cell_type": "code",
   "execution_count": null,
   "metadata": {},
   "outputs": [],
   "source": [
    "# Import dependencies.\n",
    "import matplotlib.pyplot as plt"
   ]
  },
  {
   "cell_type": "code",
   "execution_count": null,
   "metadata": {},
   "outputs": [],
   "source": [
    "# Set the x-axis to a list of strings for each month.\n",
    "x_axis = [\"Jan\", \"Feb\", \"Mar\", \"April\", \"May\", \"June\", \"July\", \"Aug\", \"Sept\", \"Oct\", \"Nov\", \"Dec\"]\n",
    "\n",
    "# Set the y-axis to a list of floats as the total fare in US dollars accumulated for each month.\n",
    "y_axis = [10.02, 23.24, 39.20, 35.42, 32.34, 27.04, 43.82, 10.56, 11.85, 27.90, 20.71, 20.09]"
   ]
  },
  {
   "cell_type": "code",
   "execution_count": null,
   "metadata": {},
   "outputs": [],
   "source": [
    "# Create the plot\n",
    "plt.plot(x_axis, y_axis)"
   ]
  },
  {
   "cell_type": "code",
   "execution_count": null,
   "metadata": {},
   "outputs": [],
   "source": [
    "# Create the plot with ax.plt()\n",
    "fig, ax = plt.subplots()\n",
    "ax.plot(x_axis, y_axis)"
   ]
  },
  {
   "cell_type": "code",
   "execution_count": null,
   "metadata": {},
   "outputs": [],
   "source": [
    "# Create the plot with ax.plt()\n",
    "fig = plt.figure()\n",
    "ax = fig.add_subplot()\n",
    "ax.plot(x_axis, y_axis)"
   ]
  },
  {
   "cell_type": "code",
   "execution_count": null,
   "metadata": {},
   "outputs": [],
   "source": [
    "# Create the plot with ax.plt()\n",
    "ax = plt.axes()\n",
    "ax.plot(x_axis, y_axis)\n"
   ]
  },
  {
   "cell_type": "code",
   "execution_count": null,
   "metadata": {},
   "outputs": [],
   "source": [
    "# Create the plot.\n",
    "plt.plot(x_axis, y_axis)\n",
    "plt.show()"
   ]
  },
  {
   "cell_type": "code",
   "execution_count": null,
   "metadata": {},
   "outputs": [],
   "source": [
    "# Create the plot and add a label for the legend.\n",
    "plt.plot(x_axis, y_axis, label='Boston')\n",
    "# Create labels for the x and y axes.\n",
    "plt.xlabel(\"Date\")\n",
    "plt.ylabel(\"Fare($)\")\n",
    "# Set the y limit between 0 and 45.\n",
    "plt.ylim(0, 45)\n",
    "# Create a title.\n",
    "plt.title(\"PyBer Fare by Month\")\n",
    "# Add the legend.\n",
    "plt.legend()"
   ]
  },
  {
   "cell_type": "code",
   "execution_count": null,
   "metadata": {},
   "outputs": [],
   "source": [
    "# Create the plot.\n",
    "plt.plot(x_axis, y_axis, marker=\"*\", color=\"blue\", linewidth=2, label='Boston')\n",
    "# Create labels for the x and y axes.\n",
    "plt.xlabel(\"Date\")\n",
    "plt.ylabel(\"Fare($)\")\n",
    "# Set the y limit between 0 and 45.\n",
    "plt.ylim(0, 45)\n",
    "# Create a title.\n",
    "plt.title(\"PyBer Fare by Month\")\n",
    "# Add a grid.\n",
    "plt.grid()\n",
    "# Add the legend.\n",
    "plt.legend()"
   ]
  },
  {
   "cell_type": "code",
   "execution_count": null,
   "metadata": {},
   "outputs": [],
   "source": [
    "# Create the plot\n",
    "plt.bar(x_axis, y_axis)"
   ]
  },
  {
   "cell_type": "code",
   "execution_count": null,
   "metadata": {},
   "outputs": [],
   "source": [
    "# Create the plot.\n",
    "plt.bar(x_axis, y_axis, color=\"green\", label='Boston')\n",
    "# Create labels for the x and y axes.\n",
    "plt.xlabel(\"Date\")\n",
    "plt.ylabel(\"Fare($)\")\n",
    "# Create a title.\n",
    "plt.title(\"PyBer Fare by Month\")\n",
    "# Add the legend.\n",
    "plt.legend()"
   ]
  },
  {
   "cell_type": "code",
   "execution_count": null,
   "metadata": {},
   "outputs": [],
   "source": [
    "# Create the plot.\n",
    "plt.barh(x_axis, y_axis)\n",
    "plt.gca().invert_yaxis()"
   ]
  },
  {
   "cell_type": "code",
   "execution_count": null,
   "metadata": {},
   "outputs": [],
   "source": [
    "# Create the plot with ax.plt()\n",
    "fig, ax = plt.subplots()\n",
    "ax.bar(x_axis, y_axis)"
   ]
  },
  {
   "cell_type": "code",
   "execution_count": null,
   "metadata": {},
   "outputs": [],
   "source": [
    "# Create the plot with ax.plt()\n",
    "fig, ax = plt.subplots()\n",
    "ax.barh(y_axis, x_axis)"
   ]
  },
  {
   "cell_type": "code",
   "execution_count": null,
   "metadata": {},
   "outputs": [],
   "source": [
    "plt.plot(x_axis, y_axis, 'o')\n",
    "plt.scatter(x_axis, y_axis)"
   ]
  },
  {
   "cell_type": "code",
   "execution_count": null,
   "metadata": {},
   "outputs": [],
   "source": [
    "y_axis_larger = []\n",
    "for data in y_axis:\n",
    "  y_axis_larger.append(data*3)\n",
    "plt.scatter(x_axis, y_axis, s=y_axis_larger)"
   ]
  },
  {
   "cell_type": "code",
   "execution_count": null,
   "metadata": {},
   "outputs": [],
   "source": [
    "fig, ax = plt.subplots()\n",
    "ax.scatter(x_axis, y_axis)"
   ]
  },
  {
   "cell_type": "code",
   "execution_count": null,
   "metadata": {},
   "outputs": [],
   "source": [
    "fig, ax = plt.subplots()\n",
    "ax.scatter(x_axis, y_axis, s=y_axis)"
   ]
  },
  {
   "cell_type": "code",
   "execution_count": null,
   "metadata": {},
   "outputs": [],
   "source": [
    "plt.pie(y_axis, labels=x_axis)\n",
    "plt.show()"
   ]
  },
  {
   "cell_type": "code",
   "execution_count": null,
   "metadata": {},
   "outputs": [],
   "source": [
    "explode_values = (0, 0, 0, 0, 0, 0, 0.2, 0, 0, 0, 0, 0)\n",
    "plt.pie(y_axis, explode=explode_values, labels=x_axis, autopct='%.1f%%')"
   ]
  },
  {
   "cell_type": "code",
   "execution_count": null,
   "metadata": {},
   "outputs": [],
   "source": [
    "# Assign 12 colors, one for each month.\n",
    "colors = [\"slateblue\", \"magenta\", \"lightblue\", \"green\", \"yellowgreen\", \"greenyellow\", \"yellow\", \"orange\", \"gold\", \"indianred\", \"tomato\", \"mistyrose\"]\n",
    "explode_values = (0, 0, 0, 0, 0, 0, 0.2, 0, 0, 0, 0, 0)\n",
    "plt.subplots(figsize=(8, 8))\n",
    "plt.pie(y_axis,\n",
    "    explode=explode_values,\n",
    "    colors=colors,\n",
    "    labels=x_axis,\n",
    "    autopct='%.1f%%')\n",
    "\n",
    "plt.show()"
   ]
  },
  {
   "cell_type": "code",
   "execution_count": null,
   "metadata": {},
   "outputs": [],
   "source": [
    "fig, ax = plt.subplots()\n",
    "ax.pie(y_axis,labels=x_axis)\n",
    "plt.show()"
   ]
  }
 ],
 "metadata": {
  "kernelspec": {
   "display_name": "PythonData",
   "language": "python",
   "name": "pythondata"
  },
  "language_info": {
   "codemirror_mode": {
    "name": "ipython",
    "version": 3
   },
   "file_extension": ".py",
   "mimetype": "text/x-python",
   "name": "python",
   "nbconvert_exporter": "python",
   "pygments_lexer": "ipython3",
   "version": "3.7.7"
  }
 },
 "nbformat": 4,
 "nbformat_minor": 4
}
